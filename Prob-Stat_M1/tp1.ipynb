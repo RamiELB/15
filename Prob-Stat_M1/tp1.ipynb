{
 "cells": [
  {
   "cell_type": "code",
   "execution_count": 1,
   "metadata": {},
   "outputs": [],
   "source": [
    "# import\n",
    "import numpy as np\n",
    "import matplotlib.pyplot as pp"
   ]
  },
  {
   "cell_type": "code",
   "execution_count": 2,
   "metadata": {},
   "outputs": [
    {
     "name": "stdout",
     "output_type": "stream",
     "text": [
      "[0.03791275 0.36887354 0.10466012 ... 0.82047103 0.83879442 0.89606341]\n"
     ]
    }
   ],
   "source": [
    "# Générer des nombres aléatoires uniformes [0,1]\n",
    "va = np.random.random((10000))\n",
    "print(va)"
   ]
  },
  {
   "cell_type": "code",
   "execution_count": 3,
   "metadata": {},
   "outputs": [
    {
     "ename": "NameError",
     "evalue": "name 'hist' is not defined",
     "output_type": "error",
     "traceback": [
      "\u001b[0;31m---------------------------------------------------------------------------\u001b[0m",
      "\u001b[0;31mNameError\u001b[0m                                 Traceback (most recent call last)",
      "\u001b[0;32m<ipython-input-3-883633ef7288>\u001b[0m in \u001b[0;36m<module>\u001b[0;34m\u001b[0m\n\u001b[1;32m      4\u001b[0m     \u001b[0;32mreturn\u001b[0m \u001b[0mhist\u001b[0m\u001b[0;34m,\u001b[0m\u001b[0mnorm\u001b[0m\u001b[0;34m\u001b[0m\u001b[0;34m\u001b[0m\u001b[0m\n\u001b[1;32m      5\u001b[0m \u001b[0;34m\u001b[0m\u001b[0m\n\u001b[0;32m----> 6\u001b[0;31m \u001b[0mh1\u001b[0m\u001b[0;34m,\u001b[0m\u001b[0mnorm\u001b[0m \u001b[0;34m=\u001b[0m \u001b[0mcount_elements\u001b[0m\u001b[0;34m(\u001b[0m\u001b[0mva\u001b[0m\u001b[0;34m,\u001b[0m\u001b[0;36m0\u001b[0m\u001b[0;34m,\u001b[0m\u001b[0;36m1\u001b[0m\u001b[0;34m,\u001b[0m\u001b[0;36m10\u001b[0m\u001b[0;34m)\u001b[0m\u001b[0;34m\u001b[0m\u001b[0;34m\u001b[0m\u001b[0m\n\u001b[0m\u001b[1;32m      7\u001b[0m \u001b[0mprint\u001b[0m\u001b[0;34m(\u001b[0m\u001b[0mh1\u001b[0m\u001b[0;34m)\u001b[0m\u001b[0;34m\u001b[0m\u001b[0;34m\u001b[0m\u001b[0m\n\u001b[1;32m      8\u001b[0m \u001b[0mprint\u001b[0m\u001b[0;34m(\u001b[0m\u001b[0mh1\u001b[0m\u001b[0;34m/\u001b[0m\u001b[0mnorm\u001b[0m\u001b[0;34m)\u001b[0m\u001b[0;34m\u001b[0m\u001b[0;34m\u001b[0m\u001b[0m\n",
      "\u001b[0;32m<ipython-input-3-883633ef7288>\u001b[0m in \u001b[0;36mcount_elements\u001b[0;34m(seq, BInf, BSup, NBins)\u001b[0m\n\u001b[1;32m      2\u001b[0m \u001b[0;32mdef\u001b[0m \u001b[0mcount_elements\u001b[0m\u001b[0;34m(\u001b[0m\u001b[0mseq\u001b[0m\u001b[0;34m,\u001b[0m \u001b[0mBInf\u001b[0m\u001b[0;34m,\u001b[0m\u001b[0mBSup\u001b[0m\u001b[0;34m,\u001b[0m \u001b[0mNBins\u001b[0m\u001b[0;34m)\u001b[0m\u001b[0;34m:\u001b[0m\u001b[0;34m\u001b[0m\u001b[0;34m\u001b[0m\u001b[0m\n\u001b[1;32m      3\u001b[0m     \u001b[0;31m# TODO renvoyer l'histogramme et la norme\u001b[0m\u001b[0;34m\u001b[0m\u001b[0;34m\u001b[0m\u001b[0;34m\u001b[0m\u001b[0m\n\u001b[0;32m----> 4\u001b[0;31m     \u001b[0;32mreturn\u001b[0m \u001b[0mhist\u001b[0m\u001b[0;34m,\u001b[0m\u001b[0mnorm\u001b[0m\u001b[0;34m\u001b[0m\u001b[0;34m\u001b[0m\u001b[0m\n\u001b[0m\u001b[1;32m      5\u001b[0m \u001b[0;34m\u001b[0m\u001b[0m\n\u001b[1;32m      6\u001b[0m \u001b[0mh1\u001b[0m\u001b[0;34m,\u001b[0m\u001b[0mnorm\u001b[0m \u001b[0;34m=\u001b[0m \u001b[0mcount_elements\u001b[0m\u001b[0;34m(\u001b[0m\u001b[0mva\u001b[0m\u001b[0;34m,\u001b[0m\u001b[0;36m0\u001b[0m\u001b[0;34m,\u001b[0m\u001b[0;36m1\u001b[0m\u001b[0;34m,\u001b[0m\u001b[0;36m10\u001b[0m\u001b[0;34m)\u001b[0m\u001b[0;34m\u001b[0m\u001b[0;34m\u001b[0m\u001b[0m\n",
      "\u001b[0;31mNameError\u001b[0m: name 'hist' is not defined"
     ]
    }
   ],
   "source": [
    "# faire un histogramme\n",
    "def count_elements(seq, BInf,BSup, NBins):\n",
    "    # TODO renvoyer l'histogramme et la norme\n",
    "    return hist,norm\n",
    "\n",
    "h1,norm = count_elements(va,0,1,10)\n",
    "print(h1)\n",
    "print(h1/norm)"
   ]
  },
  {
   "cell_type": "code",
   "execution_count": 4,
   "metadata": {
    "scrolled": false
   },
   "outputs": [],
   "source": [
    "# variables gaussiennes\n",
    "va_normal = np.random.normal(size=(100000))\n",
    "# Tester la fonction pour des variables gaussiennes\n",
    "# TODO\n",
    "\n",
    "#normalisation\n",
    "def gauss(x):\n",
    "    return 1/np.sqrt(2*np.pi) * np.exp(-x**2 / 2.0)\n",
    "\n",
    "# pp.plot(xr,h2/norm)\n",
    "# pp.plot(xr,gauss(xr))"
   ]
  },
  {
   "cell_type": "code",
   "execution_count": 7,
   "metadata": {},
   "outputs": [
    {
     "data": {
      "text/plain": [
       "(array([5.65720152e-05, 0.00000000e+00, 1.69716046e-04, 5.09148137e-04,\n",
       "        6.22292167e-04, 5.65720152e-04, 2.31945262e-03, 3.39432091e-03,\n",
       "        6.73206981e-03, 8.93837840e-03, 1.57835922e-02, 2.63059871e-02,\n",
       "        3.74506741e-02, 5.39131305e-02, 7.54670683e-02, 1.06298817e-01,\n",
       "        1.41486610e-01, 1.83463045e-01, 2.11918769e-01, 2.60174698e-01,\n",
       "        2.99379104e-01, 3.42260692e-01, 3.65738078e-01, 3.91082341e-01,\n",
       "        3.93288650e-01, 3.98493275e-01, 3.77561629e-01, 3.55951120e-01,\n",
       "        3.20480466e-01, 2.86820117e-01, 2.29512666e-01, 1.97888909e-01,\n",
       "        1.55573042e-01, 1.20611536e-01, 8.89312079e-02, 6.56235376e-02,\n",
       "        4.53141842e-02, 3.23591927e-02, 2.13842217e-02, 1.39732878e-02,\n",
       "        8.31608624e-03, 4.86519331e-03, 2.60231270e-03, 1.52744441e-03,\n",
       "        8.48580228e-04, 6.22292167e-04, 3.39432091e-04, 0.00000000e+00,\n",
       "        2.26288061e-04, 5.65720152e-05]),\n",
       " array([-4.37348815, -4.19672231, -4.01995646, -3.84319062, -3.66642478,\n",
       "        -3.48965893, -3.31289309, -3.13612725, -2.9593614 , -2.78259556,\n",
       "        -2.60582971, -2.42906387, -2.25229803, -2.07553218, -1.89876634,\n",
       "        -1.7220005 , -1.54523465, -1.36846881, -1.19170296, -1.01493712,\n",
       "        -0.83817128, -0.66140543, -0.48463959, -0.30787375, -0.1311079 ,\n",
       "         0.04565794,  0.22242379,  0.39918963,  0.57595547,  0.75272132,\n",
       "         0.92948716,  1.106253  ,  1.28301885,  1.45978469,  1.63655054,\n",
       "         1.81331638,  1.99008222,  2.16684807,  2.34361391,  2.52037975,\n",
       "         2.6971456 ,  2.87391144,  3.05067729,  3.22744313,  3.40420897,\n",
       "         3.58097482,  3.75774066,  3.9345065 ,  4.11127235,  4.28803819,\n",
       "         4.46480404]),\n",
       " <a list of 50 Patch objects>)"
      ]
     },
     "execution_count": 7,
     "metadata": {},
     "output_type": "execute_result"
    },
    {
     "data": {
      "image/png": "[encoded data removed]",
      "text/plain": [
       "<Figure size 432x288 with 3 Axes>"
      ]
     },
     "metadata": {
      "needs_background": "light"
     },
     "output_type": "display_data"
    }
   ],
   "source": [
    "# numpy sait le faire\n",
    "# vérifier la fonction de répartition : faire un histogramme\n",
    "f,ax = pp.subplots(1,3)\n",
    "ax[0].hist(va, range=(0,1), bins=10)\n",
    "ax[1].hist(va_normal,bins=50)\n",
    "ax[2].hist(va_normal,bins=50,normed=True)\n",
    "ax[2].plot(xr,gauss(xr))"
   ]
  },
  {
   "cell_type": "code",
   "execution_count": 8,
   "metadata": {},
   "outputs": [
    {
     "data": {
      "text/plain": [
       "<matplotlib.collections.PathCollection at 0x7f0dcccef8b0>"
      ]
     },
     "execution_count": 8,
     "metadata": {},
     "output_type": "execute_result"
    },
    {
     "data": {
      "image/png": "[encoded data removed]",
      "text/plain": [
       "<Figure size 432x288 with 1 Axes>"
      ]
     },
     "metadata": {
      "needs_background": "light"
     },
     "output_type": "display_data"
    }
   ],
   "source": [
    "# p(x,y) = p(x|y)p(y)\n",
    "# p(y) ~ unif(-1,1)\n",
    "# p(x|y) = Normal(-5,1)\\theta(y) + Normal(5,1)\\theta(-y)\n",
    "\n",
    "va_y = np.random.random(size=(100000))*2-1\n",
    "va_x = np.zeros(va_y.shape[0])\n",
    "yneg = np.where(va_y < 0)\n",
    "ypos = np.where(va_y >= 0)\n",
    "va_x[yneg[0]] = np.random.normal(-5,size=(len(yneg[0])))\n",
    "va_x[ypos[0]] = np.random.normal(5,size=(len(ypos[0])))\n",
    "\n",
    "pp.scatter(va_x,va_y)"
   ]
  },
  {
   "cell_type": "code",
   "execution_count": null,
   "metadata": {},
   "outputs": [],
   "source": [
    "# plotter un histogramme 2D (cf np.histogram2D)"
   ]
  },
  {
   "cell_type": "code",
   "execution_count": null,
   "metadata": {},
   "outputs": [],
   "source": [
    "# Loi des gds nombres et convergence\n",
    "# commençons par des variables de bernoulli\n",
    "Nva = 10**np.arange(1,5,0.2)\n",
    "arr_mean = []\n",
    "\n",
    "# pour chaque valeur i de Nva, générer 1000 fois 'i' variable de bernoulli. Enregistrer les valeur dans un tableau\n",
    "\n",
    "# test\n",
    "##pp.loglog(Nva,np.abs(arr_mean-0.5))\n",
    "##pp.loglog(Nva,Nva**(-0.5)/Nva[0]**(-0.5)*np.abs(arr_mean-0.5)[0])"
   ]
  },
  {
   "cell_type": "code",
   "execution_count": null,
   "metadata": {},
   "outputs": [],
   "source": [
    "# somme de variables aléatoire\n",
    "n_var = 10000 # nombre d'estimation de la valeur moyenne\n",
    "n_sum = 10000 # nombre de variable aléatoire utilisé pour la somme\n",
    "est_m = []\n",
    "# générer n_var estimation de la valeur moyenne d'un processus de n_sum variables bernoulli sommé\n",
    "\n",
    "# test\n",
    "#Z = np.sqrt(n_sum)*(est_m/n_sum - 0.5)/0.5;\n",
    "#pp.hist(Z,bins=40,normed=True)\n",
    "#pp.plot(xr,gauss(xr))"
   ]
  },
  {
   "cell_type": "code",
   "execution_count": null,
   "metadata": {},
   "outputs": [],
   "source": []
  }
 ],
 "metadata": {
  "kernelspec": {
   "display_name": "Python 3",
   "language": "python",
   "name": "python3"
  },
  "language_info": {
   "codemirror_mode": {
    "name": "ipython",
    "version": 3
   },
   "file_extension": ".py",
   "mimetype": "text/x-python",
   "name": "python",
   "nbconvert_exporter": "python",
   "pygments_lexer": "ipython3",
   "version": "3.8.3"
  }
 },
 "nbformat": 4,
 "nbformat_minor": 2
}
