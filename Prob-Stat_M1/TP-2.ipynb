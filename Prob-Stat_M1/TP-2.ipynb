{
 "cells": [
  {
   "cell_type": "markdown",
   "metadata": {},
   "source": [
    "## Estimation de la moyenne, erreur et variance/covariance\n",
    "Le but de ce TP est d'un part d'observer dans des exemples simples les estimations de la valeur moyenne (lorsque l'on connnaît la vérité terrain) et de voir comment mesurer l'erreur sur celle-ci.\n",
    "Dans un second temps, on regardera (toujours sur des cas contrôlés) la signification de la covariance et une façon de réduite naïvement la dimension des données."
   ]
  },
  {
   "cell_type": "code",
   "execution_count": 1,
   "metadata": {},
   "outputs": [],
   "source": [
    "import numpy as np\n",
    "import matplotlib.pyplot as plt"
   ]
  },
  {
   "cell_type": "markdown",
   "metadata": {},
   "source": [
    "  * Générer $N_s = 10^{2,3,4,5,6}$ variables Gaussienns de moyennes 0 et de variance 2.\n",
    "  * Afficher pour chacune des valeurs l'estimation de la valeur moyenne et de la variance. \n",
    "  * Comment calcule-t-on l'erreur sur l'estimation de la moyenne ?\n",
    "  * Vous afficherez les résultats sur un plot en échelle logarithmique pour l'axe x (pourquoi l'échelle log ?). \n",
    "  * A l'aide de la fonction 'errorbar' faire un graphe avec la barre d'erreur.\n",
    "  * Que se passe-t-il si la variance n'est pas 2 mais 10"
   ]
  },
  {
   "cell_type": "code",
   "execution_count": null,
   "metadata": {},
   "outputs": [],
   "source": []
  },
  {
   "cell_type": "markdown",
   "metadata": {},
   "source": [
    "Dans le fichier \"data_ping.d\", sont enregistrés les données du temps de ping vers un serveur.\n",
    "  * Tracer l'histogramme des valeurs, que constatez-vous ?\n",
    "  * Estimez la valeur moyenne et son erreur\n",
    "\n",
    "A l'aide de la fonction \"np.random.permutation\":\n",
    "  * obtenez $200$ estimations (dans un tableau) de la valeur moyenne en prenant $30$ valeurs aléatoire parmis le jeu de données.\n",
    "  * Faites l'histogramme des valeurs obtenues. \n",
    "  * En utilisant l'histogramme, pouvez-vous devinez la distribution obtenue ? (vous pouvez aussi tracer l'histogramme avec l'option \"log=True\" pour mettre l'échelle y en log)\n",
    "  * Tracer la distribution intuitée pour s'en assurer, que remarquez-vous ?\n",
    "  \n",
    "Bonus : sur la distribution des valeurs du ping, saurez-vous estimez le comportement de la distribution pour les \"grandes\" valeurs de ping ?"
   ]
  },
  {
   "cell_type": "code",
   "execution_count": null,
   "metadata": {},
   "outputs": [],
   "source": []
  }
 ],
 "metadata": {
  "kernelspec": {
   "display_name": "Python 3",
   "language": "python",
   "name": "python3"
  },
  "language_info": {
   "codemirror_mode": {
    "name": "ipython",
    "version": 3
   },
   "file_extension": ".py",
   "mimetype": "text/x-python",
   "name": "python",
   "nbconvert_exporter": "python",
   "pygments_lexer": "ipython3",
   "version": "3.8.3"
  }
 },
 "nbformat": 4,
 "nbformat_minor": 4
}
