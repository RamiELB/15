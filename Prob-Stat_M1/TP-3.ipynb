{
 "cells": [
  {
   "cell_type": "markdown",
   "metadata": {},
   "source": [
    "# Variance/Covariance\n",
    "On revient sur une distribution bien connu.\n",
    "Générer $10000$ variables aléatoires gaussiennes de moyenne $0$ et de variance $1$.\n",
    "  * Tracer l'histogramme des points, et données (à l'oeil) une estimation de la variance\n",
    "  * Changer la variance et observer si la valeur correspond bien à ce que l'on observe sur l'histogramme"
   ]
  },
  {
   "cell_type": "code",
   "execution_count": null,
   "metadata": {},
   "outputs": [],
   "source": []
  },
  {
   "cell_type": "markdown",
   "metadata": {},
   "source": [
    "On va voir maintenant ce qu'il se passe en dimension $d=2$. Utiliser la fonction suivante pour générer des points en deux dimensions\n",
    "```python\n",
    "covar = [[1,0],[0,1]]\n",
    "m = [0,0]\n",
    "x = np.random.multivariate_normal(mean=m,cov=covar,size=(100000))\n",
    "```\n",
    "\n",
    "  * tracez l'histogramme 2D (cf le tp précédent) et regardez si vous réussissez à observer l'ordre de grandeur de la variance sur le plot\n",
    "  * mettez des valeurs differents pour la variance selon x et selon y, que constatez-vous sur l'histogramme ?"
   ]
  },
  {
   "cell_type": "code",
   "execution_count": null,
   "metadata": {},
   "outputs": [],
   "source": []
  },
  {
   "cell_type": "markdown",
   "metadata": {},
   "source": [
    "En utilisant la matrice de covariance suivante : \n",
    "```python\n",
    "cov = [[5, 1], [1, 1]]\n",
    "```\n",
    "Regarder l'histogramme obtenu.\n",
    "  * Définir un vecteur unitaire $\\vec{u}$ aléatoirement, et calculer la variance le long de ce vecteur\n",
    "  * Calculer l'erreur de reconstruction le long de cette direction\n",
    "  * En observant l'histogramme tracé précédemment, essayer de construire un vecteur $\\vec{u}$ qui suivrait la forme du nuage de points.\n",
    "  * Calculer l'erreur de reconstruction le long de cette direction"
   ]
  },
  {
   "cell_type": "code",
   "execution_count": null,
   "metadata": {},
   "outputs": [],
   "source": []
  },
  {
   "cell_type": "markdown",
   "metadata": {},
   "source": [
    "#### Analyse en composantes principales\n",
    "\n",
    "On cherche à voir comment étudier les données à l'aide de l'ACP. Reprenez les données 2D ci-dessus avec la matrice de covariance non diagonale.\n",
    "  1. Calculer la matrice de covariance (on pourra utiliser la fonction np.matmul)\n",
    "  2. Diagonaliser la matrice de covariance à l'aide de la fonction np.linalg.eig\n",
    "  3. Afficher sur le scatter-plot des données, les directions obtenues par la diagonalisation (on peut utiliser la fonction plt.quiver)\n",
    "  4. Calculer l'erreur de reconstruction le long de la direction de plus grande variance obtenue par la diagonalisation."
   ]
  },
  {
   "cell_type": "code",
   "execution_count": null,
   "metadata": {},
   "outputs": [],
   "source": []
  },
  {
   "cell_type": "markdown",
   "metadata": {},
   "source": [
    "En utilisant la bibliothèque scikit-learn :\n",
    "```python\n",
    "from sklearn.decomposition import PCA\n",
    "mypca = PCA(n_components=2)\n",
    "X_tf = mypca.fit(X)\n",
    "print(X_tf.components_)\n",
    "print(X_tf.singular_values_)\n",
    "```\n",
    "\n",
    "Vérifier que vous retrouvez bien les directions équivalentes et la variance du jeu de données."
   ]
  },
  {
   "cell_type": "code",
   "execution_count": null,
   "metadata": {},
   "outputs": [],
   "source": []
  }
 ],
 "metadata": {
  "kernelspec": {
   "display_name": "Python 3",
   "language": "python",
   "name": "python3"
  },
  "language_info": {
   "codemirror_mode": {
    "name": "ipython",
    "version": 3
   },
   "file_extension": ".py",
   "mimetype": "text/x-python",
   "name": "python",
   "nbconvert_exporter": "python",
   "pygments_lexer": "ipython3",
   "version": "3.8.3"
  }
 },
 "nbformat": 4,
 "nbformat_minor": 4
}
